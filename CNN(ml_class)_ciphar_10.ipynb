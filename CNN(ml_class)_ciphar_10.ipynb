{
  "nbformat": 4,
  "nbformat_minor": 0,
  "metadata": {
    "colab": {
      "provenance": []
    },
    "kernelspec": {
      "name": "python3",
      "display_name": "Python 3"
    },
    "language_info": {
      "name": "python"
    },
    "accelerator": "GPU",
    "gpuClass": "standard"
  },
  "cells": [
    {
      "cell_type": "code",
      "execution_count": 4,
      "metadata": {
        "id": "SONnfPqYg8CW",
        "colab": {
          "base_uri": "https://localhost:8080/"
        },
        "outputId": "c8768a55-7178-4ea1-e549-77b7e0df83c0"
      },
      "outputs": [
        {
          "output_type": "stream",
          "name": "stdout",
          "text": [
            "Data extracted\n"
          ]
        }
      ],
      "source": [
        "\n",
        "from zipfile import ZipFile\n",
        "# from PIL import Image\n",
        "path = \"/content/drive/MyDrive/Colab Notebooks/datasets/vehicles_dataset_image.zip\"\n",
        "\n",
        "with ZipFile(path) as f:\n",
        "  f.extractall(\"./data\")\n",
        "  print(\"Data extracted\")\n"
      ]
    },
    {
      "cell_type": "code",
      "source": [
        "import tensorflow as tf\n",
        "import numpy as np\n",
        "import pandas as pd\n",
        "from tensorflow.keras import layers"
      ],
      "metadata": {
        "id": "wFPbDM0ZCV6f"
      },
      "execution_count": 5,
      "outputs": []
    },
    {
      "cell_type": "code",
      "source": [
        "data = tf.keras.utils.image_dataset_from_directory(\n",
        "    \"/content/data/vehicles_dataset_images/cifar10/train\",\n",
        "    image_size = (32,32),\n",
        "    color_mode=\"rgb\",\n",
        "    batch_size = 50000\n",
        ")"
      ],
      "metadata": {
        "colab": {
          "base_uri": "https://localhost:8080/"
        },
        "id": "fCqD5jPdEcBe",
        "outputId": "65a2c272-1748-4286-f066-b586b30bfe11"
      },
      "execution_count": 7,
      "outputs": [
        {
          "output_type": "stream",
          "name": "stdout",
          "text": [
            "Found 50000 files belonging to 10 classes.\n"
          ]
        }
      ]
    },
    {
      "cell_type": "code",
      "source": [
        "cnn_model = tf.keras.Sequential([\n",
        "    layers.Conv2D(18,5,padding=\"same\",input_shape=(32,32,3)),\n",
        "    layers.MaxPool2D(),\n",
        "    layers.Conv2D(18,3,padding=\"same\",activation=\"leaky_relu\"),\n",
        "    layers.MaxPool2D(),\n",
        "    layers.Conv2D(36,3,padding=\"same\",activation= \"leaky_relu\"),\n",
        "    layers.MaxPool2D(),\n",
        "    layers.Conv2D(36,3,padding=\"same\",activation= \"leaky_relu\"),\n",
        "    layers.MaxPool2D(),\n",
        "    layers.Flatten(),\n",
        "    layers.Dense(100,activation = \"leaky_relu\"),\n",
        "    layers.Dense(10),\n",
        "    layers.Activation(\"softmax\")\n",
        "])"
      ],
      "metadata": {
        "id": "r3T-ttDtEe-b"
      },
      "execution_count": 21,
      "outputs": []
    },
    {
      "cell_type": "code",
      "source": [
        "cnn_model.summary()"
      ],
      "metadata": {
        "colab": {
          "base_uri": "https://localhost:8080/"
        },
        "id": "TYMmR5dTEg8j",
        "outputId": "a5d6d7aa-c260-4304-82c3-e8e4734eba98"
      },
      "execution_count": 22,
      "outputs": [
        {
          "output_type": "stream",
          "name": "stdout",
          "text": [
            "Model: \"sequential_9\"\n",
            "_________________________________________________________________\n",
            " Layer (type)                Output Shape              Param #   \n",
            "=================================================================\n",
            " conv2d_33 (Conv2D)          (None, 32, 32, 18)        1368      \n",
            "                                                                 \n",
            " max_pooling2d_33 (MaxPoolin  (None, 16, 16, 18)       0         \n",
            " g2D)                                                            \n",
            "                                                                 \n",
            " conv2d_34 (Conv2D)          (None, 16, 16, 18)        2934      \n",
            "                                                                 \n",
            " max_pooling2d_34 (MaxPoolin  (None, 8, 8, 18)         0         \n",
            " g2D)                                                            \n",
            "                                                                 \n",
            " conv2d_35 (Conv2D)          (None, 8, 8, 36)          5868      \n",
            "                                                                 \n",
            " max_pooling2d_35 (MaxPoolin  (None, 4, 4, 36)         0         \n",
            " g2D)                                                            \n",
            "                                                                 \n",
            " conv2d_36 (Conv2D)          (None, 4, 4, 36)          11700     \n",
            "                                                                 \n",
            " max_pooling2d_36 (MaxPoolin  (None, 2, 2, 36)         0         \n",
            " g2D)                                                            \n",
            "                                                                 \n",
            " flatten_9 (Flatten)         (None, 144)               0         \n",
            "                                                                 \n",
            " dense_9 (Dense)             (None, 100)               14500     \n",
            "                                                                 \n",
            " dense_10 (Dense)            (None, 10)                1010      \n",
            "                                                                 \n",
            " activation_9 (Activation)   (None, 10)                0         \n",
            "                                                                 \n",
            "=================================================================\n",
            "Total params: 37,380\n",
            "Trainable params: 37,380\n",
            "Non-trainable params: 0\n",
            "_________________________________________________________________\n"
          ]
        }
      ]
    },
    {
      "cell_type": "code",
      "source": [
        "cnn_model.compile(\n",
        "    loss= tf.keras.losses.categorical_crossentropy,\n",
        "    optimizer = tf.keras.optimizers.Adam(),\n",
        "    metrics = [\"Accuracy\"]\n",
        ")"
      ],
      "metadata": {
        "id": "aotxeWm_FA9_"
      },
      "execution_count": 23,
      "outputs": []
    },
    {
      "cell_type": "code",
      "source": [
        "for features,labels in data:\n",
        "    features = tf.divide(features,255)\n",
        "    labels = tf.one_hot(labels,10)\n",
        "    record = cnn_model.fit(features,labels,batch_size = 50,epochs=100)"
      ],
      "metadata": {
        "colab": {
          "base_uri": "https://localhost:8080/"
        },
        "id": "twuqN_day1Hl",
        "outputId": "fdc20be6-c1fd-4cac-c046-c0d8ff05e631"
      },
      "execution_count": 24,
      "outputs": [
        {
          "output_type": "stream",
          "name": "stdout",
          "text": [
            "Epoch 1/100\n",
            "1000/1000 [==============================] - 4s 4ms/step - loss: 1.5939 - Accuracy: 0.4159\n",
            "Epoch 2/100\n",
            "1000/1000 [==============================] - 4s 4ms/step - loss: 1.2429 - Accuracy: 0.5548\n",
            "Epoch 3/100\n",
            "1000/1000 [==============================] - 4s 4ms/step - loss: 1.0828 - Accuracy: 0.6165\n",
            "Epoch 4/100\n",
            "1000/1000 [==============================] - 4s 4ms/step - loss: 0.9780 - Accuracy: 0.6551\n",
            "Epoch 5/100\n",
            "1000/1000 [==============================] - 4s 4ms/step - loss: 0.9131 - Accuracy: 0.6777\n",
            "Epoch 6/100\n",
            "1000/1000 [==============================] - 4s 4ms/step - loss: 0.8601 - Accuracy: 0.6978\n",
            "Epoch 7/100\n",
            "1000/1000 [==============================] - 5s 5ms/step - loss: 0.8113 - Accuracy: 0.7130\n",
            "Epoch 8/100\n",
            "1000/1000 [==============================] - 5s 5ms/step - loss: 0.7703 - Accuracy: 0.7303\n",
            "Epoch 9/100\n",
            "1000/1000 [==============================] - 4s 4ms/step - loss: 0.7330 - Accuracy: 0.7415\n",
            "Epoch 10/100\n",
            "1000/1000 [==============================] - 4s 4ms/step - loss: 0.7069 - Accuracy: 0.7513\n",
            "Epoch 11/100\n",
            "1000/1000 [==============================] - 4s 4ms/step - loss: 0.6789 - Accuracy: 0.7608\n",
            "Epoch 12/100\n",
            "1000/1000 [==============================] - 4s 4ms/step - loss: 0.6527 - Accuracy: 0.7704\n",
            "Epoch 13/100\n",
            "1000/1000 [==============================] - 4s 4ms/step - loss: 0.6299 - Accuracy: 0.7759\n",
            "Epoch 14/100\n",
            "1000/1000 [==============================] - 4s 4ms/step - loss: 0.6082 - Accuracy: 0.7856\n",
            "Epoch 15/100\n",
            "1000/1000 [==============================] - 4s 4ms/step - loss: 0.5883 - Accuracy: 0.7915\n",
            "Epoch 16/100\n",
            "1000/1000 [==============================] - 5s 5ms/step - loss: 0.5715 - Accuracy: 0.7968\n",
            "Epoch 17/100\n",
            "1000/1000 [==============================] - 4s 4ms/step - loss: 0.5477 - Accuracy: 0.8058\n",
            "Epoch 18/100\n",
            "1000/1000 [==============================] - 4s 4ms/step - loss: 0.5404 - Accuracy: 0.8091\n",
            "Epoch 19/100\n",
            "1000/1000 [==============================] - 4s 4ms/step - loss: 0.5220 - Accuracy: 0.8126\n",
            "Epoch 20/100\n",
            "1000/1000 [==============================] - 4s 4ms/step - loss: 0.5037 - Accuracy: 0.8199\n",
            "Epoch 21/100\n",
            "1000/1000 [==============================] - 4s 4ms/step - loss: 0.4895 - Accuracy: 0.8252\n",
            "Epoch 22/100\n",
            "1000/1000 [==============================] - 4s 4ms/step - loss: 0.4745 - Accuracy: 0.8293\n",
            "Epoch 23/100\n",
            "1000/1000 [==============================] - 4s 4ms/step - loss: 0.4608 - Accuracy: 0.8362\n",
            "Epoch 24/100\n",
            "1000/1000 [==============================] - 4s 4ms/step - loss: 0.4501 - Accuracy: 0.8369\n",
            "Epoch 25/100\n",
            "1000/1000 [==============================] - 4s 4ms/step - loss: 0.4391 - Accuracy: 0.8411\n",
            "Epoch 26/100\n",
            "1000/1000 [==============================] - 4s 4ms/step - loss: 0.4319 - Accuracy: 0.8439\n",
            "Epoch 27/100\n",
            "1000/1000 [==============================] - 4s 4ms/step - loss: 0.4240 - Accuracy: 0.8473\n",
            "Epoch 28/100\n",
            "1000/1000 [==============================] - 4s 4ms/step - loss: 0.4075 - Accuracy: 0.8524\n",
            "Epoch 29/100\n",
            "1000/1000 [==============================] - 4s 4ms/step - loss: 0.3965 - Accuracy: 0.8553\n",
            "Epoch 30/100\n",
            "1000/1000 [==============================] - 4s 4ms/step - loss: 0.3888 - Accuracy: 0.8588\n",
            "Epoch 31/100\n",
            "1000/1000 [==============================] - 4s 4ms/step - loss: 0.3887 - Accuracy: 0.8592\n",
            "Epoch 32/100\n",
            "1000/1000 [==============================] - 4s 4ms/step - loss: 0.3707 - Accuracy: 0.8643\n",
            "Epoch 33/100\n",
            "1000/1000 [==============================] - 4s 4ms/step - loss: 0.3582 - Accuracy: 0.8705\n",
            "Epoch 34/100\n",
            "1000/1000 [==============================] - 4s 4ms/step - loss: 0.3570 - Accuracy: 0.8711\n",
            "Epoch 35/100\n",
            "1000/1000 [==============================] - 4s 4ms/step - loss: 0.3422 - Accuracy: 0.8751\n",
            "Epoch 36/100\n",
            "1000/1000 [==============================] - 4s 4ms/step - loss: 0.3386 - Accuracy: 0.8774\n",
            "Epoch 37/100\n",
            "1000/1000 [==============================] - 4s 4ms/step - loss: 0.3331 - Accuracy: 0.8781\n",
            "Epoch 38/100\n",
            "1000/1000 [==============================] - 4s 4ms/step - loss: 0.3231 - Accuracy: 0.8821\n",
            "Epoch 39/100\n",
            "1000/1000 [==============================] - 4s 4ms/step - loss: 0.3196 - Accuracy: 0.8846\n",
            "Epoch 40/100\n",
            "1000/1000 [==============================] - 4s 4ms/step - loss: 0.3133 - Accuracy: 0.8862\n",
            "Epoch 41/100\n",
            "1000/1000 [==============================] - 4s 4ms/step - loss: 0.3063 - Accuracy: 0.8879\n",
            "Epoch 42/100\n",
            "1000/1000 [==============================] - 4s 4ms/step - loss: 0.3034 - Accuracy: 0.8895\n",
            "Epoch 43/100\n",
            "1000/1000 [==============================] - 4s 4ms/step - loss: 0.2922 - Accuracy: 0.8919\n",
            "Epoch 44/100\n",
            "1000/1000 [==============================] - 4s 4ms/step - loss: 0.2908 - Accuracy: 0.8954\n",
            "Epoch 45/100\n",
            "1000/1000 [==============================] - 4s 4ms/step - loss: 0.2829 - Accuracy: 0.8951\n",
            "Epoch 46/100\n",
            "1000/1000 [==============================] - 4s 4ms/step - loss: 0.2808 - Accuracy: 0.8975\n",
            "Epoch 47/100\n",
            "1000/1000 [==============================] - 4s 4ms/step - loss: 0.2738 - Accuracy: 0.8995\n",
            "Epoch 48/100\n",
            "1000/1000 [==============================] - 4s 4ms/step - loss: 0.2672 - Accuracy: 0.9010\n",
            "Epoch 49/100\n",
            "1000/1000 [==============================] - 4s 4ms/step - loss: 0.2695 - Accuracy: 0.9018\n",
            "Epoch 50/100\n",
            "1000/1000 [==============================] - 4s 4ms/step - loss: 0.2663 - Accuracy: 0.9021\n",
            "Epoch 51/100\n",
            "1000/1000 [==============================] - 4s 4ms/step - loss: 0.2558 - Accuracy: 0.9061\n",
            "Epoch 52/100\n",
            "1000/1000 [==============================] - 4s 4ms/step - loss: 0.2559 - Accuracy: 0.9094\n",
            "Epoch 53/100\n",
            "1000/1000 [==============================] - 4s 4ms/step - loss: 0.2509 - Accuracy: 0.9085\n",
            "Epoch 54/100\n",
            "1000/1000 [==============================] - 4s 4ms/step - loss: 0.2536 - Accuracy: 0.9063\n",
            "Epoch 55/100\n",
            "1000/1000 [==============================] - 4s 4ms/step - loss: 0.2475 - Accuracy: 0.9082\n",
            "Epoch 56/100\n",
            "1000/1000 [==============================] - 4s 4ms/step - loss: 0.2452 - Accuracy: 0.9114\n",
            "Epoch 57/100\n",
            "1000/1000 [==============================] - 4s 4ms/step - loss: 0.2388 - Accuracy: 0.9134\n",
            "Epoch 58/100\n",
            "1000/1000 [==============================] - 4s 4ms/step - loss: 0.2394 - Accuracy: 0.9124\n",
            "Epoch 59/100\n",
            "1000/1000 [==============================] - 4s 4ms/step - loss: 0.2367 - Accuracy: 0.9130\n",
            "Epoch 60/100\n",
            "1000/1000 [==============================] - 4s 4ms/step - loss: 0.2340 - Accuracy: 0.9160\n",
            "Epoch 61/100\n",
            "1000/1000 [==============================] - 4s 4ms/step - loss: 0.2308 - Accuracy: 0.9150\n",
            "Epoch 62/100\n",
            "1000/1000 [==============================] - 4s 4ms/step - loss: 0.2266 - Accuracy: 0.9170\n",
            "Epoch 63/100\n",
            "1000/1000 [==============================] - 4s 4ms/step - loss: 0.2229 - Accuracy: 0.9179\n",
            "Epoch 64/100\n",
            "1000/1000 [==============================] - 4s 4ms/step - loss: 0.2290 - Accuracy: 0.9172\n",
            "Epoch 65/100\n",
            "1000/1000 [==============================] - 4s 4ms/step - loss: 0.2182 - Accuracy: 0.9205\n",
            "Epoch 66/100\n",
            "1000/1000 [==============================] - 4s 4ms/step - loss: 0.2236 - Accuracy: 0.9192\n",
            "Epoch 67/100\n",
            "1000/1000 [==============================] - 4s 4ms/step - loss: 0.2123 - Accuracy: 0.9226\n",
            "Epoch 68/100\n",
            "1000/1000 [==============================] - 4s 4ms/step - loss: 0.2186 - Accuracy: 0.9190\n",
            "Epoch 69/100\n",
            "1000/1000 [==============================] - 4s 4ms/step - loss: 0.2147 - Accuracy: 0.9206\n",
            "Epoch 70/100\n",
            "1000/1000 [==============================] - 4s 4ms/step - loss: 0.2053 - Accuracy: 0.9254\n",
            "Epoch 71/100\n",
            "1000/1000 [==============================] - 4s 4ms/step - loss: 0.2101 - Accuracy: 0.9234\n",
            "Epoch 72/100\n",
            "1000/1000 [==============================] - 4s 4ms/step - loss: 0.2012 - Accuracy: 0.9265\n",
            "Epoch 73/100\n",
            "1000/1000 [==============================] - 4s 4ms/step - loss: 0.2108 - Accuracy: 0.9241\n",
            "Epoch 74/100\n",
            "1000/1000 [==============================] - 4s 4ms/step - loss: 0.2006 - Accuracy: 0.9264\n",
            "Epoch 75/100\n",
            "1000/1000 [==============================] - 4s 4ms/step - loss: 0.2010 - Accuracy: 0.9270\n",
            "Epoch 76/100\n",
            "1000/1000 [==============================] - 4s 4ms/step - loss: 0.1979 - Accuracy: 0.9292\n",
            "Epoch 77/100\n",
            "1000/1000 [==============================] - 4s 4ms/step - loss: 0.2051 - Accuracy: 0.9257\n",
            "Epoch 78/100\n",
            "1000/1000 [==============================] - 4s 4ms/step - loss: 0.1966 - Accuracy: 0.9284\n",
            "Epoch 79/100\n",
            "1000/1000 [==============================] - 4s 4ms/step - loss: 0.1933 - Accuracy: 0.9285\n",
            "Epoch 80/100\n",
            "1000/1000 [==============================] - 4s 4ms/step - loss: 0.1968 - Accuracy: 0.9280\n",
            "Epoch 81/100\n",
            "1000/1000 [==============================] - 4s 4ms/step - loss: 0.2006 - Accuracy: 0.9271\n",
            "Epoch 82/100\n",
            "1000/1000 [==============================] - 4s 4ms/step - loss: 0.1825 - Accuracy: 0.9336\n",
            "Epoch 83/100\n",
            "1000/1000 [==============================] - 4s 4ms/step - loss: 0.1946 - Accuracy: 0.9298\n",
            "Epoch 84/100\n",
            "1000/1000 [==============================] - 4s 4ms/step - loss: 0.1955 - Accuracy: 0.9296\n",
            "Epoch 85/100\n",
            "1000/1000 [==============================] - 4s 4ms/step - loss: 0.1881 - Accuracy: 0.9316\n",
            "Epoch 86/100\n",
            "1000/1000 [==============================] - 5s 5ms/step - loss: 0.1882 - Accuracy: 0.9321\n",
            "Epoch 87/100\n",
            "1000/1000 [==============================] - 4s 4ms/step - loss: 0.1919 - Accuracy: 0.9301\n",
            "Epoch 88/100\n",
            "1000/1000 [==============================] - 4s 4ms/step - loss: 0.1879 - Accuracy: 0.9329\n",
            "Epoch 89/100\n",
            "1000/1000 [==============================] - 4s 4ms/step - loss: 0.1835 - Accuracy: 0.9338\n",
            "Epoch 90/100\n",
            "1000/1000 [==============================] - 4s 4ms/step - loss: 0.1840 - Accuracy: 0.9351\n",
            "Epoch 91/100\n",
            "1000/1000 [==============================] - 4s 4ms/step - loss: 0.1855 - Accuracy: 0.9334\n",
            "Epoch 92/100\n",
            "1000/1000 [==============================] - 4s 4ms/step - loss: 0.1783 - Accuracy: 0.9357\n",
            "Epoch 93/100\n",
            "1000/1000 [==============================] - 4s 4ms/step - loss: 0.1783 - Accuracy: 0.9372\n",
            "Epoch 94/100\n",
            "1000/1000 [==============================] - 4s 4ms/step - loss: 0.1912 - Accuracy: 0.9314\n",
            "Epoch 95/100\n",
            "1000/1000 [==============================] - 4s 4ms/step - loss: 0.1802 - Accuracy: 0.9345\n",
            "Epoch 96/100\n",
            "1000/1000 [==============================] - 4s 4ms/step - loss: 0.1806 - Accuracy: 0.9350\n",
            "Epoch 97/100\n",
            "1000/1000 [==============================] - 4s 4ms/step - loss: 0.1766 - Accuracy: 0.9360\n",
            "Epoch 98/100\n",
            "1000/1000 [==============================] - 4s 4ms/step - loss: 0.1798 - Accuracy: 0.9353\n",
            "Epoch 99/100\n",
            "1000/1000 [==============================] - 4s 4ms/step - loss: 0.1742 - Accuracy: 0.9376\n",
            "Epoch 100/100\n",
            "1000/1000 [==============================] - 4s 4ms/step - loss: 0.1711 - Accuracy: 0.9393\n"
          ]
        }
      ]
    },
    {
      "cell_type": "code",
      "source": [
        "cnn_model.save(\"/content/drive/MyDrive/Colab Notebooks/datasets/ciphar10_train_model.h5\")"
      ],
      "metadata": {
        "id": "gMb95W7cOMff"
      },
      "execution_count": 29,
      "outputs": []
    }
  ]
}