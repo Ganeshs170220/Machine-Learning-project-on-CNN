{
  "nbformat": 4,
  "nbformat_minor": 0,
  "metadata": {
    "colab": {
      "provenance": []
    },
    "kernelspec": {
      "name": "python3",
      "display_name": "Python 3"
    },
    "language_info": {
      "name": "python"
    }
  },
  "cells": [
    {
      "cell_type": "code",
      "execution_count": 57,
      "metadata": {
        "id": "Iug4tyljN-SF"
      },
      "outputs": [],
      "source": [
        "from tensorflow import keras\n",
        "from PIL import Image\n",
        "import tensorflow as tf\n",
        "import numpy as np\n",
        "import pandas as pd\n",
        "from tensorflow.keras import layers\n",
        "\n",
        "model =  tf.keras.models.load_model(\"/content/drive/MyDrive/Colab Notebooks/datasets/ciphar10_train_model.h5\")\n"
      ]
    },
    {
      "cell_type": "code",
      "source": [
        "classes = [\n",
        "    \"airplane\",\n",
        "    \"automobile\",\n",
        "    \"bird\",\n",
        "    \"cat\",\n",
        "    \"deer\",\n",
        "    \"dog\",\n",
        "    \"frog\",\n",
        "    \"horse\",\n",
        "    \"ship\",\n",
        "    \"truck\"\n",
        "]\n",
        "model.summary()"
      ],
      "metadata": {
        "colab": {
          "base_uri": "https://localhost:8080/"
        },
        "id": "lV3WNRlBPfYS",
        "outputId": "7dfeac5a-04e1-4dbf-bbe9-ea7f9abda0cf"
      },
      "execution_count": 58,
      "outputs": [
        {
          "output_type": "stream",
          "name": "stdout",
          "text": [
            "Model: \"sequential_9\"\n",
            "_________________________________________________________________\n",
            " Layer (type)                Output Shape              Param #   \n",
            "=================================================================\n",
            " conv2d_33 (Conv2D)          (None, 32, 32, 18)        1368      \n",
            "                                                                 \n",
            " max_pooling2d_33 (MaxPoolin  (None, 16, 16, 18)       0         \n",
            " g2D)                                                            \n",
            "                                                                 \n",
            " conv2d_34 (Conv2D)          (None, 16, 16, 18)        2934      \n",
            "                                                                 \n",
            " max_pooling2d_34 (MaxPoolin  (None, 8, 8, 18)         0         \n",
            " g2D)                                                            \n",
            "                                                                 \n",
            " conv2d_35 (Conv2D)          (None, 8, 8, 36)          5868      \n",
            "                                                                 \n",
            " max_pooling2d_35 (MaxPoolin  (None, 4, 4, 36)         0         \n",
            " g2D)                                                            \n",
            "                                                                 \n",
            " conv2d_36 (Conv2D)          (None, 4, 4, 36)          11700     \n",
            "                                                                 \n",
            " max_pooling2d_36 (MaxPoolin  (None, 2, 2, 36)         0         \n",
            " g2D)                                                            \n",
            "                                                                 \n",
            " flatten_9 (Flatten)         (None, 144)               0         \n",
            "                                                                 \n",
            " dense_9 (Dense)             (None, 100)               14500     \n",
            "                                                                 \n",
            " dense_10 (Dense)            (None, 10)                1010      \n",
            "                                                                 \n",
            " activation_9 (Activation)   (None, 10)                0         \n",
            "                                                                 \n",
            "=================================================================\n",
            "Total params: 37,380\n",
            "Trainable params: 37,380\n",
            "Non-trainable params: 0\n",
            "_________________________________________________________________\n"
          ]
        }
      ]
    },
    {
      "cell_type": "code",
      "source": [
        "img = Image.open(\"/content/drive/MyDrive/Colab Notebooks/datasets/ciphar 10 dataset/dog.jpeg\")\n",
        "img = img.resize((32,32))\n",
        "img"
      ],
      "metadata": {
        "colab": {
          "base_uri": "https://localhost:8080/",
          "height": 49
        },
        "id": "mN0T9kEUS-HA",
        "outputId": "8803c275-2db4-4ff8-d8d3-7f3f48007344"
      },
      "execution_count": 59,
      "outputs": [
        {
          "output_type": "execute_result",
          "data": {
            "text/plain": [
              "<PIL.Image.Image image mode=RGB size=32x32 at 0x7F707F518100>"
            ],
            "image/png": "[encoded data removed]"
          },
          "metadata": {},
          "execution_count": 59
        }
      ]
    },
    {
      "cell_type": "code",
      "source": [
        "test = tf.reshape(tf.constant(np.array(img)/255,dtype=tf.float32), (-1,32,32,3))\n",
        "\n",
        "preds = model.predict(test,verbose = False)[0]*100\n",
        "# print(preds)\n",
        "preds = tf.math.round(preds)\n",
        "confidence = tf.reduce_max(preds)\n",
        "\n",
        "index = int(tf.where(preds == confidence)[0][0])\n",
        "pred = classes[index]\n",
        "print(pred.title(),int(confidence),\"%\")"
      ],
      "metadata": {
        "colab": {
          "base_uri": "https://localhost:8080/"
        },
        "id": "T2e6ajjdTD80",
        "outputId": "41d37782-b8ed-424a-a88c-03e472433ce6"
      },
      "execution_count": 61,
      "outputs": [
        {
          "output_type": "stream",
          "name": "stdout",
          "text": [
            "Dog 99 %\n"
          ]
        }
      ]
    }
  ]
}