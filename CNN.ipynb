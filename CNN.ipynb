{
  "nbformat": 4,
  "nbformat_minor": 0,
  "metadata": {
    "colab": {
      "provenance": []
    },
    "kernelspec": {
      "name": "python3",
      "display_name": "Python 3"
    },
    "language_info": {
      "name": "python"
    }
  },
  "cells": [
    {
      "cell_type": "code",
      "execution_count": null,
      "metadata": {
        "id": "SONnfPqYg8CW"
      },
      "outputs": [],
      "source": [
        "\n",
        "from zipfile import ZipFile\n",
        "# from PIL import Image\n",
        "path = \"/content/drive/MyDrive/Colab Notebooks/datasets/vehicles_dataset_image.zip\"\n",
        "\n",
        "with ZipFile(path) as f:\n",
        "  f.extractall(\"/content/drive/MyDrive/Colab Notebooks/datasets/\")\n",
        "  print(\"Data extracted\")\n"
      ]
    },
    {
      "cell_type": "code",
      "source": [
        "import tensorflow as tf\n",
        "import numpy as np\n",
        "import pandas as pd\n",
        "from tensorflow.keras import layers"
      ],
      "metadata": {
        "id": "wFPbDM0ZCV6f"
      },
      "execution_count": null,
      "outputs": []
    },
    {
      "cell_type": "code",
      "source": [
        "data = tf.keras.utils.image_dataset_from_directory(\n",
        "    \"/content/drive/MyDrive/Colab Notebooks/datasets/vehicles_dataset_images/cifar10/train\",\n",
        "    image_size = (32,32),\n",
        "    color_mode=\"rgb\",\n",
        "    batch_size = 50000\n",
        ")"
      ],
      "metadata": {
        "colab": {
          "base_uri": "https://localhost:8080/"
        },
        "id": "fCqD5jPdEcBe",
        "outputId": "44786ce3-2821-4050-b65f-d5ae7755aec8"
      },
      "execution_count": null,
      "outputs": [
        {
          "output_type": "stream",
          "name": "stdout",
          "text": [
            "Found 50000 files belonging to 10 classes.\n"
          ]
        }
      ]
    },
    {
      "cell_type": "code",
      "source": [
        "cnn_model = tf.keras.Sequential([\n",
        "    layers.Conv2D(9,3,input_shape=(32,32,3)),\n",
        "    layers.MaxPool2D(),\n",
        "    layers.Conv2D(18,3,activation=\"leaky_relu\"),\n",
        "    layers.MaxPool2D(),\n",
        "    layers.Conv2D(36,3,activation= \"leaky_relu\"),\n",
        "    layers.MaxPool2D(),\n",
        "    layers.Flatten(),\n",
        "    layers.Dense(10),\n",
        "    layers.Activation(\"softmax\")\n",
        "])"
      ],
      "metadata": {
        "id": "r3T-ttDtEe-b"
      },
      "execution_count": null,
      "outputs": []
    },
    {
      "cell_type": "code",
      "source": [
        "cnn_model.summary()"
      ],
      "metadata": {
        "colab": {
          "base_uri": "https://localhost:8080/"
        },
        "id": "TYMmR5dTEg8j",
        "outputId": "fb45c872-c5d7-4ad4-a24a-2754173f90da"
      },
      "execution_count": null,
      "outputs": [
        {
          "output_type": "stream",
          "name": "stdout",
          "text": [
            "Model: \"sequential\"\n",
            "_________________________________________________________________\n",
            " Layer (type)                Output Shape              Param #   \n",
            "=================================================================\n",
            " conv2d (Conv2D)             (None, 30, 30, 9)         252       \n",
            "                                                                 \n",
            " max_pooling2d (MaxPooling2D  (None, 15, 15, 9)        0         \n",
            " )                                                               \n",
            "                                                                 \n",
            " conv2d_1 (Conv2D)           (None, 13, 13, 18)        1476      \n",
            "                                                                 \n",
            " max_pooling2d_1 (MaxPooling  (None, 6, 6, 18)         0         \n",
            " 2D)                                                             \n",
            "                                                                 \n",
            " conv2d_2 (Conv2D)           (None, 4, 4, 36)          5868      \n",
            "                                                                 \n",
            " max_pooling2d_2 (MaxPooling  (None, 2, 2, 36)         0         \n",
            " 2D)                                                             \n",
            "                                                                 \n",
            " flatten (Flatten)           (None, 144)               0         \n",
            "                                                                 \n",
            " dense (Dense)               (None, 10)                1450      \n",
            "                                                                 \n",
            " activation (Activation)     (None, 10)                0         \n",
            "                                                                 \n",
            "=================================================================\n",
            "Total params: 9,046\n",
            "Trainable params: 9,046\n",
            "Non-trainable params: 0\n",
            "_________________________________________________________________\n"
          ]
        }
      ]
    },
    {
      "cell_type": "code",
      "source": [
        "cnn_model.compile(\n",
        "    loss= tf.keras.losses.categorical_crossentropy,\n",
        "    optimizer = tf.keras.optimizers.Adam(),\n",
        "    metrics = [\"Accuracy\"]\n",
        ")"
      ],
      "metadata": {
        "id": "aotxeWm_FA9_"
      },
      "execution_count": null,
      "outputs": []
    },
    {
      "cell_type": "code",
      "source": [
        "for features,labels in data:\n",
        "    features = tf.divide(features,255)\n",
        "    labels = tf.one_hot(labels,10)\n",
        "    record = cnn_model.fit(features,labels,batch_size = 50,epochs=100)"
      ],
      "metadata": {
        "colab": {
          "base_uri": "https://localhost:8080/"
        },
        "id": "twuqN_day1Hl",
        "outputId": "eb47367a-c5f0-47b8-985f-f63d622489cb"
      },
      "execution_count": null,
      "outputs": [
        {
          "output_type": "stream",
          "name": "stdout",
          "text": [
            "Epoch 1/100\n",
            "1000/1000 [==============================] - 51s 50ms/step - loss: 1.6947 - Accuracy: 0.3916\n",
            "Epoch 2/100\n",
            "1000/1000 [==============================] - 50s 50ms/step - loss: 1.3805 - Accuracy: 0.5102\n",
            "Epoch 3/100\n",
            "1000/1000 [==============================] - 49s 49ms/step - loss: 1.2719 - Accuracy: 0.5546\n",
            "Epoch 4/100\n",
            "1000/1000 [==============================] - 49s 49ms/step - loss: 1.2045 - Accuracy: 0.5784\n",
            "Epoch 5/100\n",
            "1000/1000 [==============================] - 51s 51ms/step - loss: 1.1587 - Accuracy: 0.5962\n",
            "Epoch 6/100\n",
            "1000/1000 [==============================] - 49s 49ms/step - loss: 1.1200 - Accuracy: 0.6116\n",
            "Epoch 7/100\n",
            "1000/1000 [==============================] - 49s 49ms/step - loss: 1.0900 - Accuracy: 0.6209\n",
            "Epoch 8/100\n",
            "1000/1000 [==============================] - 48s 48ms/step - loss: 1.0641 - Accuracy: 0.6300\n",
            "Epoch 9/100\n",
            "1000/1000 [==============================] - 50s 50ms/step - loss: 1.0450 - Accuracy: 0.6377\n",
            "Epoch 10/100\n",
            "1000/1000 [==============================] - 53s 53ms/step - loss: 1.0210 - Accuracy: 0.6473\n",
            "Epoch 11/100\n",
            "1000/1000 [==============================] - 49s 49ms/step - loss: 1.0005 - Accuracy: 0.6541\n",
            "Epoch 12/100\n",
            "1000/1000 [==============================] - 50s 50ms/step - loss: 0.9912 - Accuracy: 0.6564\n",
            "Epoch 13/100\n",
            "1000/1000 [==============================] - 51s 51ms/step - loss: 0.9716 - Accuracy: 0.6629\n",
            "Epoch 14/100\n",
            "1000/1000 [==============================] - 50s 50ms/step - loss: 0.9616 - Accuracy: 0.6677\n",
            "Epoch 15/100\n",
            "1000/1000 [==============================] - 50s 50ms/step - loss: 0.9473 - Accuracy: 0.6723\n",
            "Epoch 16/100\n",
            "1000/1000 [==============================] - 49s 49ms/step - loss: 0.9349 - Accuracy: 0.6768\n",
            "Epoch 17/100\n",
            "1000/1000 [==============================] - 52s 52ms/step - loss: 0.9242 - Accuracy: 0.6821\n",
            "Epoch 18/100\n",
            "1000/1000 [==============================] - 50s 50ms/step - loss: 0.9133 - Accuracy: 0.6839\n",
            "Epoch 19/100\n",
            "1000/1000 [==============================] - 49s 49ms/step - loss: 0.9068 - Accuracy: 0.6886\n",
            "Epoch 20/100\n",
            "1000/1000 [==============================] - 49s 49ms/step - loss: 0.8969 - Accuracy: 0.6916\n",
            "Epoch 21/100\n",
            "1000/1000 [==============================] - 51s 51ms/step - loss: 0.8910 - Accuracy: 0.6927\n",
            "Epoch 22/100\n",
            "1000/1000 [==============================] - 52s 52ms/step - loss: 0.8840 - Accuracy: 0.6948\n",
            "Epoch 23/100\n",
            "1000/1000 [==============================] - 50s 50ms/step - loss: 0.8750 - Accuracy: 0.6977\n",
            "Epoch 24/100\n",
            "1000/1000 [==============================] - 51s 51ms/step - loss: 0.8689 - Accuracy: 0.6995\n",
            "Epoch 25/100\n",
            "1000/1000 [==============================] - 50s 50ms/step - loss: 0.8667 - Accuracy: 0.6997\n",
            "Epoch 26/100\n",
            "1000/1000 [==============================] - 52s 52ms/step - loss: 0.8616 - Accuracy: 0.7037\n",
            "Epoch 27/100\n",
            "1000/1000 [==============================] - 50s 50ms/step - loss: 0.8550 - Accuracy: 0.7034\n",
            "Epoch 28/100\n",
            "1000/1000 [==============================] - 50s 50ms/step - loss: 0.8530 - Accuracy: 0.7041\n",
            "Epoch 29/100\n",
            "1000/1000 [==============================] - 50s 50ms/step - loss: 0.8438 - Accuracy: 0.7105\n",
            "Epoch 30/100\n",
            "1000/1000 [==============================] - 51s 51ms/step - loss: 0.8402 - Accuracy: 0.7083\n",
            "Epoch 31/100\n",
            "1000/1000 [==============================] - 50s 50ms/step - loss: 0.8372 - Accuracy: 0.7106\n",
            "Epoch 32/100\n",
            "1000/1000 [==============================] - 50s 50ms/step - loss: 0.8299 - Accuracy: 0.7131\n",
            "Epoch 33/100\n",
            "1000/1000 [==============================] - 50s 50ms/step - loss: 0.8297 - Accuracy: 0.7123\n",
            "Epoch 34/100\n",
            "1000/1000 [==============================] - 51s 51ms/step - loss: 0.8246 - Accuracy: 0.7149\n",
            "Epoch 35/100\n",
            "1000/1000 [==============================] - 50s 50ms/step - loss: 0.8184 - Accuracy: 0.7179\n",
            "Epoch 36/100\n",
            "1000/1000 [==============================] - 49s 49ms/step - loss: 0.8141 - Accuracy: 0.7179\n",
            "Epoch 37/100\n",
            "1000/1000 [==============================] - 49s 49ms/step - loss: 0.8135 - Accuracy: 0.7179\n",
            "Epoch 38/100\n",
            "1000/1000 [==============================] - 50s 50ms/step - loss: 0.8068 - Accuracy: 0.7225\n",
            "Epoch 39/100\n",
            "1000/1000 [==============================] - 54s 54ms/step - loss: 0.8044 - Accuracy: 0.7222\n",
            "Epoch 40/100\n",
            "1000/1000 [==============================] - 51s 51ms/step - loss: 0.7995 - Accuracy: 0.7227\n",
            "Epoch 41/100\n",
            "1000/1000 [==============================] - 50s 50ms/step - loss: 0.7979 - Accuracy: 0.7240\n",
            "Epoch 42/100\n",
            "1000/1000 [==============================] - 51s 51ms/step - loss: 0.7950 - Accuracy: 0.7251\n",
            "Epoch 43/100\n",
            "1000/1000 [==============================] - 52s 52ms/step - loss: 0.7908 - Accuracy: 0.7268\n",
            "Epoch 44/100\n",
            "1000/1000 [==============================] - 51s 51ms/step - loss: 0.7892 - Accuracy: 0.7282\n",
            "Epoch 45/100\n",
            "1000/1000 [==============================] - 53s 53ms/step - loss: 0.7851 - Accuracy: 0.7286\n",
            "Epoch 46/100\n",
            "1000/1000 [==============================] - 52s 52ms/step - loss: 0.7827 - Accuracy: 0.7293\n",
            "Epoch 47/100\n",
            "1000/1000 [==============================] - 55s 55ms/step - loss: 0.7811 - Accuracy: 0.7298\n",
            "Epoch 48/100\n",
            "1000/1000 [==============================] - 54s 54ms/step - loss: 0.7772 - Accuracy: 0.7311\n",
            "Epoch 49/100\n",
            "1000/1000 [==============================] - 54s 54ms/step - loss: 0.7735 - Accuracy: 0.7318\n",
            "Epoch 50/100\n",
            "1000/1000 [==============================] - 53s 53ms/step - loss: 0.7728 - Accuracy: 0.7335\n",
            "Epoch 51/100\n",
            "1000/1000 [==============================] - 56s 56ms/step - loss: 0.7696 - Accuracy: 0.7348\n",
            "Epoch 52/100\n",
            "1000/1000 [==============================] - 53s 53ms/step - loss: 0.7677 - Accuracy: 0.7345\n",
            "Epoch 53/100\n",
            "1000/1000 [==============================] - 53s 53ms/step - loss: 0.7660 - Accuracy: 0.7362\n",
            "Epoch 54/100\n",
            "1000/1000 [==============================] - 54s 54ms/step - loss: 0.7651 - Accuracy: 0.7363\n",
            "Epoch 55/100\n",
            "1000/1000 [==============================] - 55s 55ms/step - loss: 0.7599 - Accuracy: 0.7363\n",
            "Epoch 56/100\n",
            "1000/1000 [==============================] - 53s 53ms/step - loss: 0.7584 - Accuracy: 0.7395\n",
            "Epoch 57/100\n",
            "1000/1000 [==============================] - 53s 53ms/step - loss: 0.7567 - Accuracy: 0.7392\n",
            "Epoch 58/100\n",
            "1000/1000 [==============================] - 54s 54ms/step - loss: 0.7537 - Accuracy: 0.7409\n",
            "Epoch 59/100\n",
            "1000/1000 [==============================] - 56s 56ms/step - loss: 0.7535 - Accuracy: 0.7408\n",
            "Epoch 60/100\n",
            "1000/1000 [==============================] - 53s 53ms/step - loss: 0.7521 - Accuracy: 0.7400\n",
            "Epoch 61/100\n",
            "1000/1000 [==============================] - 53s 53ms/step - loss: 0.7473 - Accuracy: 0.7399\n",
            "Epoch 62/100\n",
            "1000/1000 [==============================] - 53s 53ms/step - loss: 0.7492 - Accuracy: 0.7423\n",
            "Epoch 63/100\n",
            "1000/1000 [==============================] - 54s 54ms/step - loss: 0.7474 - Accuracy: 0.7416\n",
            "Epoch 64/100\n",
            "1000/1000 [==============================] - 53s 53ms/step - loss: 0.7441 - Accuracy: 0.7436\n",
            "Epoch 65/100\n",
            "1000/1000 [==============================] - 53s 53ms/step - loss: 0.7420 - Accuracy: 0.7447\n",
            "Epoch 66/100\n",
            "1000/1000 [==============================] - 53s 53ms/step - loss: 0.7388 - Accuracy: 0.7457\n",
            "Epoch 67/100\n",
            "1000/1000 [==============================] - 54s 54ms/step - loss: 0.7382 - Accuracy: 0.7456\n",
            "Epoch 68/100\n",
            "1000/1000 [==============================] - 53s 53ms/step - loss: 0.7374 - Accuracy: 0.7456\n",
            "Epoch 69/100\n",
            "1000/1000 [==============================] - 52s 52ms/step - loss: 0.7370 - Accuracy: 0.7450\n",
            "Epoch 70/100\n",
            "1000/1000 [==============================] - 53s 53ms/step - loss: 0.7352 - Accuracy: 0.7454\n",
            "Epoch 71/100\n",
            "1000/1000 [==============================] - 55s 55ms/step - loss: 0.7353 - Accuracy: 0.7460\n",
            "Epoch 72/100\n",
            "1000/1000 [==============================] - 53s 53ms/step - loss: 0.7339 - Accuracy: 0.7453\n",
            "Epoch 73/100\n",
            "1000/1000 [==============================] - 52s 52ms/step - loss: 0.7313 - Accuracy: 0.7473\n",
            "Epoch 74/100\n",
            "1000/1000 [==============================] - 52s 52ms/step - loss: 0.7301 - Accuracy: 0.7475\n",
            "Epoch 75/100\n",
            "1000/1000 [==============================] - 55s 55ms/step - loss: 0.7283 - Accuracy: 0.7480\n",
            "Epoch 76/100\n",
            "1000/1000 [==============================] - 52s 52ms/step - loss: 0.7283 - Accuracy: 0.7474\n",
            "Epoch 77/100\n",
            "1000/1000 [==============================] - 52s 52ms/step - loss: 0.7239 - Accuracy: 0.7498\n",
            "Epoch 78/100\n",
            "1000/1000 [==============================] - 52s 52ms/step - loss: 0.7255 - Accuracy: 0.7487\n",
            "Epoch 79/100\n",
            "1000/1000 [==============================] - 53s 53ms/step - loss: 0.7251 - Accuracy: 0.7507\n",
            "Epoch 80/100\n",
            "1000/1000 [==============================] - 51s 51ms/step - loss: 0.7238 - Accuracy: 0.7485\n",
            "Epoch 81/100\n",
            "1000/1000 [==============================] - 51s 51ms/step - loss: 0.7213 - Accuracy: 0.7508\n",
            "Epoch 82/100\n",
            "1000/1000 [==============================] - 51s 51ms/step - loss: 0.7185 - Accuracy: 0.7525\n",
            "Epoch 83/100\n",
            "1000/1000 [==============================] - 52s 52ms/step - loss: 0.7185 - Accuracy: 0.7515\n",
            "Epoch 84/100\n",
            "1000/1000 [==============================] - 53s 53ms/step - loss: 0.7188 - Accuracy: 0.7505\n",
            "Epoch 85/100\n",
            "1000/1000 [==============================] - 50s 50ms/step - loss: 0.7172 - Accuracy: 0.7506\n",
            "Epoch 86/100\n",
            "1000/1000 [==============================] - 51s 51ms/step - loss: 0.7145 - Accuracy: 0.7517\n",
            "Epoch 87/100\n",
            "1000/1000 [==============================] - 50s 50ms/step - loss: 0.7148 - Accuracy: 0.7528\n",
            "Epoch 88/100\n",
            "1000/1000 [==============================] - 52s 52ms/step - loss: 0.7136 - Accuracy: 0.7511\n",
            "Epoch 89/100\n",
            "1000/1000 [==============================] - 51s 51ms/step - loss: 0.7125 - Accuracy: 0.7548\n",
            "Epoch 90/100\n",
            "1000/1000 [==============================] - 51s 51ms/step - loss: 0.7139 - Accuracy: 0.7527\n",
            "Epoch 91/100\n",
            "1000/1000 [==============================] - 50s 50ms/step - loss: 0.7083 - Accuracy: 0.7539\n",
            "Epoch 92/100\n",
            "1000/1000 [==============================] - 52s 52ms/step - loss: 0.7070 - Accuracy: 0.7553\n",
            "Epoch 93/100\n",
            "1000/1000 [==============================] - 52s 52ms/step - loss: 0.7077 - Accuracy: 0.7552\n",
            "Epoch 94/100\n",
            "1000/1000 [==============================] - 51s 51ms/step - loss: 0.7083 - Accuracy: 0.7558\n",
            "Epoch 95/100\n",
            "1000/1000 [==============================] - 51s 51ms/step - loss: 0.7061 - Accuracy: 0.7553\n",
            "Epoch 96/100\n",
            "1000/1000 [==============================] - 52s 52ms/step - loss: 0.7061 - Accuracy: 0.7564\n",
            "Epoch 97/100\n",
            "1000/1000 [==============================] - 50s 50ms/step - loss: 0.7054 - Accuracy: 0.7546\n",
            "Epoch 98/100\n",
            "1000/1000 [==============================] - 51s 51ms/step - loss: 0.7041 - Accuracy: 0.7572\n",
            "Epoch 99/100\n",
            "1000/1000 [==============================] - 51s 51ms/step - loss: 0.7007 - Accuracy: 0.7586\n",
            "Epoch 100/100\n",
            "1000/1000 [==============================] - 51s 51ms/step - loss: 0.7035 - Accuracy: 0.7562\n"
          ]
        }
      ]
    }
  ]
}